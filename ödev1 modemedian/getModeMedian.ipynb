{
 "cells": [
  {
   "cell_type": "markdown",
   "metadata": {},
   "source": [
    "# Ödev 1: Mode ve Median Hesalayan Fonksiyon Karmaşılığı"
   ]
  },
  {
   "cell_type": "code",
   "execution_count": 1,
   "metadata": {},
   "outputs": [],
   "source": [
    "import random as rd"
   ]
  },
  {
   "cell_type": "code",
   "execution_count": 2,
   "metadata": {},
   "outputs": [],
   "source": [
    "def generate_random_list(n=5,lower_bound=0,upper_bound=10): # Karmşılığı: O(N)\n",
    "    \"\"\"Rasgele sayılar içeren liste üreten fonksiyon\"\"\"\n",
    "    rand_list = list()\n",
    "    for i in range(n):\n",
    "        rand_num = rd.randint(lower_bound,upper_bound)\n",
    "        rand_list.append(rand_num)\n",
    "    return rand_list"
   ]
  },
  {
   "cell_type": "code",
   "execution_count": 3,
   "metadata": {},
   "outputs": [],
   "source": [
    "arr_1 = generate_random_list()"
   ]
  },
  {
   "cell_type": "code",
   "execution_count": 4,
   "metadata": {},
   "outputs": [
    {
     "data": {
      "text/plain": [
       "[1, 5, 0, 0, 2]"
      ]
     },
     "execution_count": 4,
     "metadata": {},
     "output_type": "execute_result"
    }
   ],
   "source": [
    "arr_1"
   ]
  },
  {
   "cell_type": "code",
   "execution_count": 5,
   "metadata": {},
   "outputs": [],
   "source": [
    "def getModeMedian(array): # fonksiyon karmaşılığı: O(N)+ O(N) + O(NxN) + O(1) = O(NxN)\n",
    "    \"\"\"Liste mode ve median hesalayan fonksiyon\"\"\"\n",
    "    histogram = {}\n",
    "    mode = float('-inf') # mode varsayılan değeri negatif sonsuz olur\n",
    "    max_frequency = float('-inf') # max frequency  varsayılan değeri negatif sonsuz olur\n",
    "    median = None\n",
    "    arr_size = len(array)\n",
    "    \n",
    "    # Histogram hesaplayan kod bloku karmaşılığı : O(N)\n",
    "    for num in array:\n",
    "        if num in histogram:\n",
    "            histogram[num] = histogram[num]+1\n",
    "        else: histogram[num] = 1\n",
    "    \n",
    "    # Mode hesaplayan kod bloku karmaşılığı : O(N)\n",
    "    keys = histogram.keys()\n",
    "    for key in keys:\n",
    "        if histogram[key] > max_frequency:\n",
    "            max_frequency = histogram[key]\n",
    "            mode = key\n",
    "    \n",
    "    # array listesi sıralayan (bubble sort) kod bloku karmaşılığı : O(NxN)\n",
    "    for i in range(arr_size-1,-1,-1):\n",
    "        for j in range(i):\n",
    "            if array[j]> array[j+1]: # swap( array[j],array[j+1]) \n",
    "                copy = array[j]\n",
    "                array[j]=array[j+1]\n",
    "                array[j+1]= copy\n",
    "    \n",
    "    # Median hesaplayan kod bloku karmaşılığı : O(1)\n",
    "    if arr_size%2 == 1:\n",
    "        mid = (arr_size//2)+1\n",
    "        median = array[mid]\n",
    "    else:\n",
    "        mid_1 = array[arr_size//2]\n",
    "        mid_2 = array[(arr_size//2)+1]\n",
    "        median = (mid_1 + mid_2)/2\n",
    "    return mode,median"
   ]
  },
  {
   "cell_type": "code",
   "execution_count": 6,
   "metadata": {},
   "outputs": [],
   "source": [
    "arr_2 = generate_random_list(100,1,100)"
   ]
  },
  {
   "cell_type": "code",
   "execution_count": 7,
   "metadata": {},
   "outputs": [
    {
     "name": "stdout",
     "output_type": "stream",
     "text": [
      "[27, 29, 52, 40, 74, 48, 59, 43, 26, 91, 24, 38, 53, 97, 51, 68, 78, 33, 35, 50, 3, 45, 22, 71, 55, 44, 55, 71, 6, 62, 100, 6, 76, 15, 84, 83, 78, 13, 52, 82, 41, 95, 16, 95, 97, 51, 1, 70, 27, 52, 26, 19, 42, 50, 64, 53, 93, 27, 38, 9, 33, 15, 58, 12, 45, 18, 15, 74, 14, 68, 61, 41, 99, 24, 57, 98, 96, 88, 31, 30, 46, 16, 75, 47, 34, 100, 68, 46, 43, 48, 93, 69, 45, 70, 44, 58, 32, 40, 94, 22]\n"
     ]
    }
   ],
   "source": [
    "print(arr_2)"
   ]
  },
  {
   "cell_type": "code",
   "execution_count": 8,
   "metadata": {},
   "outputs": [],
   "source": [
    "mode,median = getModeMedian(arr_2)"
   ]
  },
  {
   "cell_type": "code",
   "execution_count": 9,
   "metadata": {},
   "outputs": [
    {
     "name": "stdout",
     "output_type": "stream",
     "text": [
      "mode =  27\n",
      "median =  49.0\n"
     ]
    }
   ],
   "source": [
    "print(\"mode = \",mode)\n",
    "print(\"median = \",median)"
   ]
  }
 ],
 "metadata": {
  "kernelspec": {
   "display_name": "Python 3",
   "language": "python",
   "name": "python3"
  },
  "language_info": {
   "codemirror_mode": {
    "name": "ipython",
    "version": 3
   },
   "file_extension": ".py",
   "mimetype": "text/x-python",
   "name": "python",
   "nbconvert_exporter": "python",
   "pygments_lexer": "ipython3",
   "version": "3.7.3"
  }
 },
 "nbformat": 4,
 "nbformat_minor": 4
}
