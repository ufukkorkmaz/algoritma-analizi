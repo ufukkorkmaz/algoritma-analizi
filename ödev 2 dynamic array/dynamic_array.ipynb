{
 "cells": [
  {
   "cell_type": "markdown",
   "metadata": {},
   "source": [
    "# Dynamic Array - Amortized Cost"
   ]
  },
  {
   "cell_type": "code",
   "execution_count": 1,
   "metadata": {},
   "outputs": [],
   "source": [
    "import random as rd\n",
    "import ctypes"
   ]
  },
  {
   "cell_type": "code",
   "execution_count": 2,
   "metadata": {},
   "outputs": [],
   "source": [
    "class DArray(object):\n",
    "    def __init__(self):\n",
    "        self._n = 0\n",
    "        self._capacity = 1\n",
    "        self._array = self.__create_low_level_array(self._capacity)\n",
    "    \n",
    "    def __len__(self):return self._n\n",
    "    \n",
    "    def __getitem__(self,i):\n",
    "        if 0 <= i < self._n: return self._array[i]\n",
    "        else: raise IndexError(\"index out of range\")\n",
    "    \n",
    "    def __resize_array(self,capacity):                             # private method\n",
    "        new_array = self.__create_low_level_array(capacity)\n",
    "        for i in range(self._n): new_array[i] = self._array[i]\n",
    "        self._array = new_array\n",
    "        self._capacity = capacity\n",
    "    \n",
    "    def __create_low_level_array(self,capacity):                   # private method, C array tipinde dizi oluşturur\n",
    "        py_obj_array = capacity * ctypes.py_object\n",
    "        return py_obj_array()\n",
    "    \n",
    "    def append(self,obj):\n",
    "        if self._n == self._capacity: self.__resize_array(2*self._capacity)    # array kapasitesi iki katını alır \n",
    "        self._array[self._n] = obj\n",
    "        self._n += 1\n",
    "    \n",
    "    def remove(self):                                               # array boş değilse ancak eleman silinecek \n",
    "        if self._n > 0:\n",
    "            self._array[self._n] = None\n",
    "            self._n -= 1\n",
    "            "
   ]
  },
  {
   "cell_type": "code",
   "execution_count": 3,
   "metadata": {},
   "outputs": [],
   "source": [
    "darray = DArray()"
   ]
  },
  {
   "cell_type": "code",
   "execution_count": 4,
   "metadata": {},
   "outputs": [],
   "source": [
    "darray.append(rd.randint(0,100))\n",
    "darray.append(rd.randint(0,100))\n",
    "darray.append(rd.randint(0,100))\n",
    "darray.append(rd.randint(0,100))\n",
    "darray.append(rd.randint(0,100))"
   ]
  },
  {
   "cell_type": "code",
   "execution_count": 5,
   "metadata": {},
   "outputs": [
    {
     "name": "stdout",
     "output_type": "stream",
     "text": [
      "DArray[ 51 54 84 21 49 ]\n"
     ]
    }
   ],
   "source": [
    "print(\"DArray[\",end=\" \")\n",
    "for i in darray: print(i,end=\" \")\n",
    "print(\"]\")"
   ]
  },
  {
   "cell_type": "code",
   "execution_count": 6,
   "metadata": {},
   "outputs": [],
   "source": [
    "darray.remove()"
   ]
  },
  {
   "cell_type": "code",
   "execution_count": 7,
   "metadata": {},
   "outputs": [
    {
     "name": "stdout",
     "output_type": "stream",
     "text": [
      "DArray[ 51 54 84 21 ]\n"
     ]
    }
   ],
   "source": [
    "print(\"DArray[\",end=\" \")\n",
    "for i in darray: print(i,end=\" \")\n",
    "print(\"]\")"
   ]
  }
 ],
 "metadata": {
  "kernelspec": {
   "display_name": "Python 3",
   "language": "python",
   "name": "python3"
  },
  "language_info": {
   "codemirror_mode": {
    "name": "ipython",
    "version": 3
   },
   "file_extension": ".py",
   "mimetype": "text/x-python",
   "name": "python",
   "nbconvert_exporter": "python",
   "pygments_lexer": "ipython3",
   "version": "3.7.3"
  }
 },
 "nbformat": 4,
 "nbformat_minor": 4
}
